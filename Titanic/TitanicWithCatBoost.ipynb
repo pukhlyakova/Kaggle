{
 "cells": [
  {
   "cell_type": "code",
   "execution_count": 1,
   "metadata": {
    "collapsed": true
   },
   "outputs": [],
   "source": [
    "import pandas as pd\n",
    "import numpy as np\n",
    "import catboost"
   ]
  },
  {
   "cell_type": "markdown",
   "metadata": {},
   "source": [
    "Read input data"
   ]
  },
  {
   "cell_type": "code",
   "execution_count": 2,
   "metadata": {
    "collapsed": true
   },
   "outputs": [],
   "source": [
    "df = pd.read_csv('train.csv')\n",
    "df_tst = pd.read_csv('test.csv')"
   ]
  },
  {
   "cell_type": "markdown",
   "metadata": {},
   "source": [
    "Fill unknown values on mean value"
   ]
  },
  {
   "cell_type": "code",
   "execution_count": 3,
   "metadata": {
    "collapsed": true
   },
   "outputs": [],
   "source": [
    "for d in df,df_tst:\n",
    "    d['Cabin'].fillna('Unknown',inplace=True)\n",
    "    d['Embarked'].fillna('Unknown',inplace=True)"
   ]
  },
  {
   "cell_type": "markdown",
   "metadata": {
    "collapsed": true
   },
   "source": [
    "Drop too personal column"
   ]
  },
  {
   "cell_type": "code",
   "execution_count": 4,
   "metadata": {
    "collapsed": false
   },
   "outputs": [],
   "source": [
    "cols = list(df.columns)\n",
    "cols.remove('Survived')\n",
    "cols.remove('PassengerId')"
   ]
  },
  {
   "cell_type": "markdown",
   "metadata": {},
   "source": [
    "CatBoost can work with categorial features, we don't need to bring \"Sex\" and \"Embarked\" to integer values."
   ]
  },
  {
   "cell_type": "code",
   "execution_count": 5,
   "metadata": {
    "collapsed": true
   },
   "outputs": [],
   "source": [
    "df_male = df[df.Sex == 'male']\n",
    "df_female = df[df.Sex == 'female']\n",
    "\n",
    "df_tst_male = df_tst[df_tst.Sex == 'male']\n",
    "df_tst_female = df_tst[df_tst.Sex == 'female']"
   ]
  },
  {
   "cell_type": "code",
   "execution_count": 6,
   "metadata": {
    "collapsed": false
   },
   "outputs": [],
   "source": [
    "cbc_male = catboost.CatBoostClassifier(random_seed=0).fit(df_male[cols].values,df_male['Survived'],cat_features=[0,1,2,6,8,9])\n",
    "cbc_female = catboost.CatBoostClassifier(random_seed=0).fit(df_female[cols].values,df_female['Survived'],cat_features=[0,1,2,6,8,9])"
   ]
  },
  {
   "cell_type": "code",
   "execution_count": 7,
   "metadata": {
    "collapsed": true
   },
   "outputs": [],
   "source": [
    "p_male = cbc_male.predict(df_tst_male[cols].values).astype(int)\n",
    "p_female = cbc_female.predict(df_tst_female[cols].values).astype(int)"
   ]
  },
  {
   "cell_type": "code",
   "execution_count": 8,
   "metadata": {
    "collapsed": false
   },
   "outputs": [],
   "source": [
    "submission_male = pd.DataFrame({\n",
    "        \"PassengerId\": df_tst_male[\"PassengerId\"],\n",
    "        \"Survived\": p_male\n",
    "    })\n",
    "submission_female = pd.DataFrame({\n",
    "        \"PassengerId\": df_tst_female[\"PassengerId\"],\n",
    "        \"Survived\": p_female\n",
    "    })\n",
    "submission = submission_male.append(submission_female, ignore_index=True)\n",
    "submission.to_csv(\"submission.csv\", index=False)"
   ]
  }
 ],
 "metadata": {
  "anaconda-cloud": {},
  "kernelspec": {
   "display_name": "Python [conda root]",
   "language": "python",
   "name": "conda-root-py"
  },
  "language_info": {
   "codemirror_mode": {
    "name": "ipython",
    "version": 2
   },
   "file_extension": ".py",
   "mimetype": "text/x-python",
   "name": "python",
   "nbconvert_exporter": "python",
   "pygments_lexer": "ipython2",
   "version": "2.7.12"
  }
 },
 "nbformat": 4,
 "nbformat_minor": 1
}
