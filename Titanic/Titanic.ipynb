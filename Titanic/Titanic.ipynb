{
 "cells": [
  {
   "cell_type": "code",
   "execution_count": 1,
   "metadata": {
    "collapsed": true
   },
   "outputs": [],
   "source": [
    "import pandas as pd\n",
    "import numpy as np\n",
    "\n",
    "# machine learning\n",
    "from sklearn.linear_model import LogisticRegression\n",
    "from sklearn.svm import SVC, LinearSVC\n",
    "from sklearn.ensemble import RandomForestClassifier\n",
    "from sklearn.neighbors import KNeighborsClassifier\n",
    "from sklearn.naive_bayes import GaussianNB\n",
    "from sklearn.linear_model import Perceptron\n",
    "from sklearn.linear_model import SGDClassifier\n",
    "from sklearn.tree import DecisionTreeClassifier"
   ]
  },
  {
   "cell_type": "code",
   "execution_count": 2,
   "metadata": {
    "collapsed": true
   },
   "outputs": [],
   "source": [
    "train_df = pd.read_csv('train.csv')\n",
    "test_df = pd.read_csv('test.csv')"
   ]
  },
  {
   "cell_type": "markdown",
   "metadata": {},
   "source": [
    "Выделим в обучающей выборке данные и ответ"
   ]
  },
  {
   "cell_type": "code",
   "execution_count": 3,
   "metadata": {
    "collapsed": false
   },
   "outputs": [
    {
     "name": "stdout",
     "output_type": "stream",
     "text": [
      "ok\n"
     ]
    }
   ],
   "source": [
    "X_train = train_df.drop(\"PassengerId\", axis=1).drop(\"Survived\", axis=1).drop(\"Name\", axis=1).drop(\"Ticket\", axis=1).drop(\"Cabin\", axis=1)\n",
    "Y_train = train_df[\"Survived\"]\n",
    "X_test  = test_df.drop(\"PassengerId\", axis=1).drop(\"Name\", axis=1).drop(\"Ticket\", axis=1).drop(\"Cabin\", axis=1).copy()\n",
    "X_train.shape, Y_train.shape, X_test.shape\n",
    "print \"ok\""
   ]
  },
  {
   "cell_type": "markdown",
   "metadata": {},
   "source": [
    "Приведем текстовые поля к числам, если это возможно. Если невозможно, то дропну пока их. Дальше думать буду)"
   ]
  },
  {
   "cell_type": "code",
   "execution_count": 4,
   "metadata": {
    "collapsed": false
   },
   "outputs": [],
   "source": [
    "#X_train.Sex = X_train.Sex.map( {'male': 0, 'female': 1} ).astype(int)\n",
    "#X_test.Sex = X_test.Sex.map( {'male': 0, 'female': 1} ).astype(int)"
   ]
  },
  {
   "cell_type": "code",
   "execution_count": 4,
   "metadata": {
    "collapsed": false
   },
   "outputs": [
    {
     "data": {
      "text/html": [
       "<div>\n",
       "<table border=\"1\" class=\"dataframe\">\n",
       "  <thead>\n",
       "    <tr style=\"text-align: right;\">\n",
       "      <th></th>\n",
       "      <th>Pclass</th>\n",
       "      <th>Sex</th>\n",
       "      <th>Age</th>\n",
       "      <th>SibSp</th>\n",
       "      <th>Parch</th>\n",
       "      <th>Fare</th>\n",
       "      <th>Embarked</th>\n",
       "    </tr>\n",
       "  </thead>\n",
       "  <tbody>\n",
       "    <tr>\n",
       "      <th>413</th>\n",
       "      <td>3</td>\n",
       "      <td>male</td>\n",
       "      <td>NaN</td>\n",
       "      <td>0</td>\n",
       "      <td>0</td>\n",
       "      <td>8.0500</td>\n",
       "      <td>0</td>\n",
       "    </tr>\n",
       "    <tr>\n",
       "      <th>414</th>\n",
       "      <td>1</td>\n",
       "      <td>female</td>\n",
       "      <td>39.0</td>\n",
       "      <td>0</td>\n",
       "      <td>0</td>\n",
       "      <td>108.9000</td>\n",
       "      <td>1</td>\n",
       "    </tr>\n",
       "    <tr>\n",
       "      <th>415</th>\n",
       "      <td>3</td>\n",
       "      <td>male</td>\n",
       "      <td>38.5</td>\n",
       "      <td>0</td>\n",
       "      <td>0</td>\n",
       "      <td>7.2500</td>\n",
       "      <td>0</td>\n",
       "    </tr>\n",
       "    <tr>\n",
       "      <th>416</th>\n",
       "      <td>3</td>\n",
       "      <td>male</td>\n",
       "      <td>NaN</td>\n",
       "      <td>0</td>\n",
       "      <td>0</td>\n",
       "      <td>8.0500</td>\n",
       "      <td>0</td>\n",
       "    </tr>\n",
       "    <tr>\n",
       "      <th>417</th>\n",
       "      <td>3</td>\n",
       "      <td>male</td>\n",
       "      <td>NaN</td>\n",
       "      <td>1</td>\n",
       "      <td>1</td>\n",
       "      <td>22.3583</td>\n",
       "      <td>1</td>\n",
       "    </tr>\n",
       "  </tbody>\n",
       "</table>\n",
       "</div>"
      ],
      "text/plain": [
       "     Pclass     Sex   Age  SibSp  Parch      Fare  Embarked\n",
       "413       3    male   NaN      0      0    8.0500         0\n",
       "414       1  female  39.0      0      0  108.9000         1\n",
       "415       3    male  38.5      0      0    7.2500         0\n",
       "416       3    male   NaN      0      0    8.0500         0\n",
       "417       3    male   NaN      1      1   22.3583         1"
      ]
     },
     "execution_count": 4,
     "metadata": {},
     "output_type": "execute_result"
    }
   ],
   "source": [
    "X_train.Embarked = X_train.Embarked.fillna('D')\n",
    "X_test.Embarked = X_test.Embarked.fillna('D')\n",
    "X_train.Embarked = X_train.Embarked.map( {'S': 0, 'C': 1, 'Q': 2, 'D' :3} ).astype(int)\n",
    "X_test.Embarked = X_test.Embarked.map( {'S': 0, 'C': 1, 'Q': 2, 'D' :3} ).astype(int)\n",
    "X_test.tail()"
   ]
  },
  {
   "cell_type": "code",
   "execution_count": 5,
   "metadata": {
    "collapsed": false
   },
   "outputs": [],
   "source": [
    "X_train.Pclass = X_train.Pclass.fillna(-1)\n",
    "X_train.Sex = X_train.Sex.fillna(-1)\n",
    "X_train.Age = X_train.Age.fillna(-1)\n",
    "X_train.SibSp = X_train.SibSp.fillna(-1)\n",
    "X_train.Parch = X_train.Parch.fillna(-1)\n",
    "X_train.Fare = X_train.Fare.fillna(-1)\n",
    "\n",
    "X_test.Pclass = X_test.Pclass.fillna(-1)\n",
    "X_test.Sex = X_test.Sex.fillna(-1)\n",
    "X_test.Age = X_test.Age.fillna(-1)\n",
    "X_test.SibSp = X_test.SibSp.fillna(-1)\n",
    "X_test.Parch = X_test.Parch.fillna(-1)\n",
    "X_test.Fare = X_test.Fare.fillna(-1)"
   ]
  },
  {
   "cell_type": "code",
   "execution_count": 6,
   "metadata": {
    "collapsed": false
   },
   "outputs": [
    {
     "name": "stdout",
     "output_type": "stream",
     "text": [
      "ok\n"
     ]
    }
   ],
   "source": [
    "X_train_male = X_train[X_train.Sex == 'male']\n",
    "Y_train_male = Y_train[X_train.Sex == 'male']\n",
    "X_train_female = X_train[X_train.Sex == 'female']\n",
    "Y_train_female = Y_train[X_train.Sex == 'female']\n",
    "\n",
    "X_train_male = X_train_male.drop(\"Sex\", axis=1)\n",
    "X_train_female = X_train_female.drop(\"Sex\", axis=1)\n",
    "\n",
    "X_test_male = X_test[X_test.Sex == 'male']\n",
    "X_test_female = X_test[X_test.Sex == 'female']\n",
    "\n",
    "X_test_male = X_test_male.drop(\"Sex\", axis=1)\n",
    "X_test_female = X_test_female.drop(\"Sex\", axis=1)\n",
    "\n",
    "print \"ok\""
   ]
  },
  {
   "cell_type": "code",
   "execution_count": 23,
   "metadata": {
    "collapsed": false
   },
   "outputs": [],
   "source": [
    "logreg_male = LogisticRegression()\n",
    "logreg_male.fit(X_train_male, Y_train_male)\n",
    "Y_pred_male = logreg_male.predict(X_test_male)\n",
    "\n",
    "logreg_female = LogisticRegression()\n",
    "logreg_female.fit(X_train_female, Y_train_female)\n",
    "Y_pred_female = logreg_female.predict(X_test_female)"
   ]
  },
  {
   "cell_type": "markdown",
   "metadata": {},
   "source": [
    "Посчитаем ответ."
   ]
  },
  {
   "cell_type": "code",
   "execution_count": 24,
   "metadata": {
    "collapsed": false
   },
   "outputs": [],
   "source": [
    "ids_male = test_df[test_df.Sex == 'male']\n",
    "submission_male = pd.DataFrame({\n",
    "        \"PassengerId\": ids_male[\"PassengerId\"],\n",
    "        \"Survived\": Y_pred_male\n",
    "    })\n",
    "ids_female = test_df[test_df.Sex == 'female']\n",
    "submission_female = pd.DataFrame({\n",
    "        \"PassengerId\": ids_female[\"PassengerId\"],\n",
    "        \"Survived\": Y_pred_female\n",
    "    })\n",
    "submission = submission_male.append(submission_female, ignore_index=True)\n",
    "submission.to_csv(\"submission.csv\", index=False)"
   ]
  }
 ],
 "metadata": {
  "anaconda-cloud": {},
  "kernelspec": {
   "display_name": "Python [default]",
   "language": "python",
   "name": "python2"
  },
  "language_info": {
   "codemirror_mode": {
    "name": "ipython",
    "version": 2
   },
   "file_extension": ".py",
   "mimetype": "text/x-python",
   "name": "python",
   "nbconvert_exporter": "python",
   "pygments_lexer": "ipython2",
   "version": "2.7.12"
  }
 },
 "nbformat": 4,
 "nbformat_minor": 1
}
